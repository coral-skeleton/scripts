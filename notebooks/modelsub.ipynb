{
 "cells": [
  {
   "cell_type": "code",
   "execution_count": 1,
   "id": "2d027b03-8e48-4955-b4ad-6643929dcb92",
   "metadata": {},
   "outputs": [],
   "source": [
    "import numpy as np\n",
    "import matplotlib.pyplot as plt\n",
    "from matplotlib.colors import LogNorm\n",
    "import math\n",
    "\n",
    "import astropy.units as u\n",
    "from astropy.utils.data import download_file\n",
    "from astropy.io import fits  # We use fits to open the actual data file\n",
    "\n",
    "from astropy.utils import data\n",
    "data.conf.remote_timeout = 60\n",
    "\n",
    "from spectral_cube import SpectralCube\n",
    "\n",
    "#from astroquery.esasky import ESASky\n",
    "#from astroquery.utils import TableList\n",
    "from astropy.wcs import WCS\n",
    "#from reproject import reproject_interp"
   ]
  },
  {
   "cell_type": "code",
   "execution_count": 8,
   "id": "c7055e81-ae84-4318-9b02-f4a136f77dde",
   "metadata": {},
   "outputs": [],
   "source": [
    "loc = 'data/'\n",
    "vers = 'pbcorr' \n",
    "name= '_J1059_09_HI.image_S3_S13_100'\n",
    "fullname = loc+vers+name\n",
    "ext = '.fits'\n",
    "image = ''\n",
    "gauss = 'models/pbcorr_J1059_09_HI.image_S13.gauss_model_disk.fits'\n",
    "barloc = 'output/'\n",
    "barvers = 'J1059-09_S3_fixed/'\n",
    "bar = 'models/pbcorr_J1059_09_HI.image_3D_model_S13.fits'\n",
    "#mask = 'pbcorr_J1059_09_HI.image_mask_new_S3'\n",
    "out = 'subcubes/'\n",
    "outloc = loc+vers+name"
   ]
  },
  {
   "cell_type": "code",
   "execution_count": 12,
   "id": "d1f97e2c-f098-4f92-a004-7fb0fdb5c164",
   "metadata": {},
   "outputs": [
    {
     "name": "stdout",
     "output_type": "stream",
     "text": [
      "Filename: data/pbcorr_J1059_09_HI.image_S3_S13_100.fits\n",
      "No.    Name      Ver    Type      Cards   Dimensions   Format\n",
      "  0  PRIMARY       1 PrimaryHDU      33   (100, 100, 189)   float32   \n",
      "Filename: data/models/pbcorr_J1059_09_HI.image_S13.gauss_model_disk.fits\n",
      "No.    Name      Ver    Type      Cards   Dimensions   Format\n",
      "  0  PRIMARY       1 PrimaryHDU     633   (100, 100, 189)   float32   \n",
      "Filename: data/models/pbcorr_J1059_09_HI.image_3D_model_S13.fits\n",
      "No.    Name      Ver    Type      Cards   Dimensions   Format\n",
      "  0  PRIMARY       1 PrimaryHDU      33   (100, 100, 189)   float32   \n",
      "<class 'numpy.ndarray'>\n",
      "(189, 100, 100)\n",
      "<class 'numpy.ndarray'>\n",
      "(189, 100, 100)\n",
      "<class 'numpy.ndarray'>\n",
      "(189, 100, 100)\n",
      "<class 'numpy.ndarray'>\n",
      "(189, 100, 100)\n"
     ]
    }
   ],
   "source": [
    "hdu_list = fits.open(fullname+image+ext)\n",
    "hdu_list.info()\n",
    "hdu0_list = fits.open(loc+gauss)\n",
    "hdu0_list.info()\n",
    "hdu1_list = fits.open(loc+bar)\n",
    "hdu1_list.info()\n",
    "#hdu2_list = fits.open(loc+mask+ext) \n",
    "#hdu2_list.info()\n",
    "\n",
    "data_image = fits.getdata(fullname+image+ext)\n",
    "header_image = fits.getheader(fullname+image+ext)\n",
    "data_bar = fits.getdata(loc+bar)\n",
    "header_bar = fits.getheader(loc+bar)\n",
    "data_gauss = fits.getdata(loc+gauss)\n",
    "header_gauss = fits.getheader(loc+gauss)\n",
    "#data_mask = fits.getdata(loc+mask+ext)\n",
    "#header_mask = fits.getheader(loc+mask+ext)\n",
    "\n",
    "print(type(data_image))\n",
    "print(data_image.shape)\n",
    "print(type(data_gauss))\n",
    "print(data_gauss.shape)\n",
    "print(type(data_bar))\n",
    "print(data_bar.shape)\n",
    "print(type(data_mask))\n",
    "print(data_mask.shape)\n"
   ]
  },
  {
   "cell_type": "code",
   "execution_count": 13,
   "id": "8df7e061-17b9-489f-8ca7-43924532f7ac",
   "metadata": {},
   "outputs": [],
   "source": [
    "im_copy = np.copy(data_image)\n",
    "gauss_copy = np.copy(data_gauss)\n",
    "bar_copy = np.copy(data_bar)\n",
    "#mask_copy = np.copy(data_mask)\n",
    "\n",
    "#masked_gauss = gauss_copy * mask_copy\n",
    "diff_gauss = im_copy-gauss_copy\n",
    "diff_bar = im_copy-bar_copy\n"
   ]
  },
  {
   "cell_type": "code",
   "execution_count": 14,
   "id": "3b7dbbef-5ed0-4165-b138-b781db895e29",
   "metadata": {},
   "outputs": [],
   "source": [
    "hdu = fits.PrimaryHDU(diff_gauss, header=header_image)\n",
    "hdu.writeto(outloc+image+'.S13_gauss_subtracted'+ext, overwrite=True)\n",
    "hdu = fits.PrimaryHDU(diff_bar, header=header_image)\n",
    "hdu.writeto(outloc+image+'.S13_3D_model_subtracted'+ext, overwrite=True)\n"
   ]
  },
  {
   "cell_type": "code",
   "execution_count": 1,
   "id": "455f977f-0380-4924-b312-42fcf1b043f2",
   "metadata": {},
   "outputs": [
    {
     "data": {
      "text/plain": [
       "'@ARTICLE{2018AJ....156..123T,\\n   author = {{The Astropy Collaboration} and {Price-Whelan}, A.~M. and {Sip{\\\\H o}cz}, B.~M. and\\n\\t{G{\\\\\"u}nther}, H.~M. and {Lim}, P.~L. and {Crawford}, S.~M. and\\n\\t{Conseil}, S. and {Shupe}, D.~L. and {Craig}, M.~W. and {Dencheva}, N. and\\n\\t{Ginsburg}, A. and {VanderPlas}, J.~T. and {Bradley}, L.~D. and\\n\\t{P{\\\\\\'e}rez-Su{\\\\\\'a}rez}, D. and {de Val-Borro}, M. and {Paper Contributors}, (. and\\n\\t{Aldcroft}, T.~L. and {Cruz}, K.~L. and {Robitaille}, T.~P. and\\n\\t{Tollerud}, E.~J. and {Coordination Committee}, (. and {Ardelean}, C. and\\n\\t{Babej}, T. and {Bach}, Y.~P. and {Bachetti}, M. and {Bakanov}, A.~V. and\\n\\t{Bamford}, S.~P. and {Barentsen}, G. and {Barmby}, P. and {Baumbach}, A. and\\n\\t{Berry}, K.~L. and {Biscani}, F. and {Boquien}, M. and {Bostroem}, K.~A. and\\n\\t{Bouma}, L.~G. and {Brammer}, G.~B. and {Bray}, E.~M. and {Breytenbach}, H. and\\n\\t{Buddelmeijer}, H. and {Burke}, D.~J. and {Calderone}, G. and\\n\\t{Cano Rodr{\\\\\\'{\\\\i}}guez}, J.~L. and {Cara}, M. and {Cardoso}, J.~V.~M. and\\n\\t{Cheedella}, S. and {Copin}, Y. and {Corrales}, L. and {Crichton}, D. and\\n\\t{D{\\\\rsquo}Avella}, D. and {Deil}, C. and {Depagne}, {\\\\\\'E}. and\\n\\t{Dietrich}, J.~P. and {Donath}, A. and {Droettboom}, M. and\\n\\t{Earl}, N. and {Erben}, T. and {Fabbro}, S. and {Ferreira}, L.~A. and\\n\\t{Finethy}, T. and {Fox}, R.~T. and {Garrison}, L.~H. and {Gibbons}, S.~L.~J. and\\n\\t{Goldstein}, D.~A. and {Gommers}, R. and {Greco}, J.~P. and\\n\\t{Greenfield}, P. and {Groener}, A.~M. and {Grollier}, F. and\\n\\t{Hagen}, A. and {Hirst}, P. and {Homeier}, D. and {Horton}, A.~J. and\\n\\t{Hosseinzadeh}, G. and {Hu}, L. and {Hunkeler}, J.~S. and {Ivezi{\\\\\\'c}}, {\\\\v Z}. and\\n\\t{Jain}, A. and {Jenness}, T. and {Kanarek}, G. and {Kendrew}, S. and\\n\\t{Kern}, N.~S. and {Kerzendorf}, W.~E. and {Khvalko}, A. and\\n\\t{King}, J. and {Kirkby}, D. and {Kulkarni}, A.~M. and {Kumar}, A. and\\n\\t{Lee}, A. and {Lenz}, D. and {Littlefair}, S.~P. and {Ma}, Z. and\\n\\t{Macleod}, D.~M. and {Mastropietro}, M. and {McCully}, C. and\\n\\t{Montagnac}, S. and {Morris}, B.~M. and {Mueller}, M. and {Mumford}, S.~J. and\\n\\t{Muna}, D. and {Murphy}, N.~A. and {Nelson}, S. and {Nguyen}, G.~H. and\\n\\t{Ninan}, J.~P. and {N{\\\\\"o}the}, M. and {Ogaz}, S. and {Oh}, S. and\\n\\t{Parejko}, J.~K. and {Parley}, N. and {Pascual}, S. and {Patil}, R. and\\n\\t{Patil}, A.~A. and {Plunkett}, A.~L. and {Prochaska}, J.~X. and\\n\\t{Rastogi}, T. and {Reddy Janga}, V. and {Sabater}, J. and {Sakurikar}, P. and\\n\\t{Seifert}, M. and {Sherbert}, L.~E. and {Sherwood-Taylor}, H. and\\n\\t{Shih}, A.~Y. and {Sick}, J. and {Silbiger}, M.~T. and {Singanamalla}, S. and\\n\\t{Singer}, L.~P. and {Sladen}, P.~H. and {Sooley}, K.~A. and\\n\\t{Sornarajah}, S. and {Streicher}, O. and {Teuben}, P. and {Thomas}, S.~W. and\\n\\t{Tremblay}, G.~R. and {Turner}, J.~E.~H. and {Terr{\\\\\\'o}n}, V. and\\n\\t{van Kerkwijk}, M.~H. and {de la Vega}, A. and {Watkins}, L.~L. and\\n\\t{Weaver}, B.~A. and {Whitmore}, J.~B. and {Woillez}, J. and\\n\\t{Zabalza}, V. and {Contributors}, (.},\\n    title = \"{The Astropy Project: Building an Open-science Project and Status of the v2.0 Core Package}\",\\n  journal = {\\\\aj},\\narchivePrefix = \"arXiv\",\\n   eprint = {1801.02634},\\n primaryClass = \"astro-ph.IM\",\\n keywords = {methods: data analysis, methods: miscellaneous, methods: statistical, reference systems },\\n     year = 2018,\\n    month = sep,\\n   volume = 156,\\n      eid = {123},\\n    pages = {123},\\n      doi = {10.3847/1538-3881/aabc4f},\\n   adsurl = {https://ui.adsabs.harvard.edu/abs/2018AJ....156..123T},\\n  adsnote = {Provided by the SAO/NASA Astrophysics Data System}\\n}\\n\\n'"
      ]
     },
     "execution_count": 1,
     "metadata": {},
     "output_type": "execute_result"
    }
   ],
   "source": [
    "import astropy\n",
    "astropy.__citation__"
   ]
  }
 ],
 "metadata": {
  "kernelspec": {
   "display_name": "Python 3 (ipykernel)",
   "language": "python",
   "name": "python3"
  },
  "language_info": {
   "codemirror_mode": {
    "name": "ipython",
    "version": 3
   },
   "file_extension": ".py",
   "mimetype": "text/x-python",
   "name": "python",
   "nbconvert_exporter": "python",
   "pygments_lexer": "ipython3",
   "version": "3.9.12"
  }
 },
 "nbformat": 4,
 "nbformat_minor": 5
}
