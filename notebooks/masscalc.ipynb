{
 "cells": [
  {
   "cell_type": "code",
   "execution_count": 3,
   "id": "cb235f33-54a8-4a48-82ba-a5985dcf01a3",
   "metadata": {},
   "outputs": [],
   "source": [
    "import numpy as np\n",
    "import matplotlib.pyplot as plt\n",
    "from matplotlib.colors import LogNorm\n",
    "import math\n",
    "\n",
    "import astropy.units as u\n",
    "from astropy.utils.data import download_file\n",
    "from astropy.io import fits  # We use fits to open the actual data file\n",
    "\n",
    "from astropy.utils import data\n",
    "data.conf.remote_timeout = 60\n",
    "\n",
    "from spectral_cube import SpectralCube\n",
    "\n",
    "#from astroquery.esasky import ESASky\n",
    "#from astroquery.utils import TableList\n",
    "from astropy.wcs import WCS\n",
    "#from reproject import reproject_interp"
   ]
  },
  {
   "cell_type": "code",
   "execution_count": 26,
   "id": "17f1b830-0f54-4925-8722-c650fa36e46a",
   "metadata": {},
   "outputs": [
    {
     "data": {
      "text/plain": [
       "4.43609022556391"
      ]
     },
     "execution_count": 26,
     "metadata": {},
     "output_type": "execute_result"
    }
   ],
   "source": [
    "S1, S1err = 9.76, 0.102#S1 calc\n",
    "S2, S2err = 9.68 , 0.087#s2calc\n",
    "S3, S3err = 10.33 , 0.049#S3calc\n",
    "S4, S4err = 9.66 , 0.06\n",
    "S5, S5err = 9.41 , 0.12\n",
    "S6, S6err = 9.2 , 0.12\n",
    "S11, S11err = 10.11 , 0.05\n",
    "S12, S12err = 10.28 , 0.05\n",
    "S13, S13err = 8.86 , 0.12\n",
    "S7, S7err = 9.03, 0.139 \n",
    "ds1, ds1err = 10.16 , 0.10\n",
    "ds3, ds3err = 10.20 , 0.10 \n",
    "ds2, ds2err = 9.60 , 0.10\n",
    "ds5, ds5err = 09.10, 0.10\n",
    "ds6, ds6err = 08.90, 0.10\n",
    "inter, intererr = 0.57 , 0.04\n",
    "clouds, cloudserr = 9.28 , 0.05\n",
    "sfield = 10.42\n",
    "field, fielderr = 10.68, 0.1\n",
    "\n",
    "#3dbar\n",
    "S1bar, S1barerr  =  9.66 , 0.014#S1\n",
    "S2bar, S2barerr  = 9.52 , 0.01#s2\n",
    "S3bar, S3barerr  = 10.06 , 0.007#s3\n",
    "S4bar, S4barerr = 9.48 , 0.041\n",
    "S5bar, S5barerr = 9.28 , 0.02\n",
    "S6bar, S6barerr = 8.93 , 0.026\n",
    "S11bar, S11barerr = 9.79 , 0.008\n",
    "S12bar, S12barerr = 10.02 , 0.005\n",
    "S13bar, S13barerr = 8.52 , 0.022\n",
    "#gpy\n",
    "S1d,S1derr,S1l,S1lerr,S1f,S1ferr,S1a,S1aerr  = 9.68 , 0.011 , 8.84 , 0.02 , 8.32 , 0.03, 7.92 , 0.24#s1 d, l, f\n",
    "S2d,S2derr,S2l,S2lerr,S2f,S2ferr,S2a,S2aerr  = 9.55 , 0.007 , 8.33 , 0.02 , 6.99 , 0.07, 8.94 , 0.08#s2\n",
    "S3d,S3derr,S3l,S3lerr,S3f,S3ferr,S3a,S3aerr  = 10.21 , 0.006 , 9.20 , 0.01 , 9.0 , 0.01, 8.8 , 0.11 #s3\n",
    "\n",
    "full, fullerr, mod, moderr = 10.57 , 0.04, 9.89 , 0.04\n",
    "\n",
    "1.1510449722105935*1.1510449722105935\n",
    "2360/532"
   ]
  },
  {
   "cell_type": "code",
   "execution_count": 22,
   "id": "ee72b422-4c20-4abd-b577-79e3d0cc3319",
   "metadata": {},
   "outputs": [
    {
     "name": "stdout",
     "output_type": "stream",
     "text": [
      "10.48 $\\pm$ 0.34\n",
      "\n",
      "\n",
      "10.54 $\\pm$ 0.3\n",
      "\n",
      "\n"
     ]
    }
   ],
   "source": [
    "p = (10**S1+10**S3+10**S7+10**clouds)\n",
    "perr = (S1err + S3err +S7err + cloudserr)\n",
    "print(str(np.round(np.log10(p),2)) + ' $\\pm$ ' + str(np.round(perr,2)))\n",
    "print('\\n')\n",
    "p = (10**ds1+10**ds3 +10**ds2)\n",
    "perr = (ds1err + ds3err + ds2err)\n",
    "print(str(np.round(np.log10(p),2)) + ' $\\pm$ ' + str(np.round(perr,2)))\n",
    "print('\\n')\n",
    "dsum = np.round(np.log10(p),2)\n",
    "dsumerr = perr"
   ]
  },
  {
   "cell_type": "code",
   "execution_count": 30,
   "id": "ae7dc997-e171-4c29-a1a1-9510022ba54d",
   "metadata": {},
   "outputs": [
    {
     "name": "stdout",
     "output_type": "stream",
     "text": [
      "81.97\n"
     ]
    }
   ],
   "source": [
    "pdif = (np.abs(10**sfield-10**field)/10**sfield)*100\n",
    "print(str(np.round(pdif,2)))"
   ]
  },
  {
   "cell_type": "code",
   "execution_count": 32,
   "id": "4e5fd899-a5e9-47af-a793-5d2a1d7f6767",
   "metadata": {},
   "outputs": [
    {
     "name": "stdout",
     "output_type": "stream",
     "text": [
      "100.0\n"
     ]
    }
   ],
   "source": [
    "pdif = (np.abs(10**dsum-10**inter)/10**dsum)*100\n",
    "print(str(np.round(pdif,2)))"
   ]
  },
  {
   "cell_type": "code",
   "execution_count": 12,
   "id": "e3e5d84c-ef5e-48b1-84a0-6d178ecb891c",
   "metadata": {},
   "outputs": [
    {
     "name": "stdout",
     "output_type": "stream",
     "text": [
      "9.88 $\\pm$ 0.15\n",
      "\n",
      "\n"
     ]
    }
   ],
   "source": [
    "p = (10**S1+10**clouds)\n",
    "perr = (S1err + cloudserr)\n",
    "print(str(np.round(np.log10(p),2)) + ' $\\pm$ ' + str(np.round(perr,2)))\n",
    "print('\\n')"
   ]
  },
  {
   "cell_type": "code",
   "execution_count": 73,
   "id": "dd76af55-7c78-4ed3-b0bf-0736272efa75",
   "metadata": {},
   "outputs": [
    {
     "name": "stdout",
     "output_type": "stream",
     "text": [
      "20.89 $\\pm$ 0.12\n"
     ]
    }
   ],
   "source": [
    "p = ((10**mod)/10**full)*100\n",
    "perr = p*np.sqrt((moderr/mod)**2+(fullerr/full)**2)\n",
    "print(str(np.round(p,2)) + ' $\\pm$ ' + str(np.round(perr,2)))"
   ]
  },
  {
   "cell_type": "code",
   "execution_count": 20,
   "id": "65e6e483-dd03-4a31-8e60-7697899cdde4",
   "metadata": {},
   "outputs": [
    {
     "name": "stdout",
     "output_type": "stream",
     "text": [
      "79.43 $\\pm$ 0.83\n",
      "69.18 $\\pm$ 0.62\n",
      "53.7 $\\pm$ 0.25\n",
      "66.07 $\\pm$ 0.41\n",
      "74.13 $\\pm$ 0.95\n",
      "53.7 $\\pm$ 0.7\n",
      "47.86 $\\pm$ 0.24\n",
      "54.95 $\\pm$ 0.27\n",
      "45.71 $\\pm$ 0.62\n"
     ]
    }
   ],
   "source": [
    "pdif = ((10**S1-10**S1bar)/10**S1)*100\n",
    "p = ((10**S1bar)/10**S1)*100\n",
    "perr = p*np.sqrt((10**S1barerr/10**S1bar)**2+(S1err/S1)**2)\n",
    "print(str(np.round(p,2)) + ' $\\pm$ ' + str(np.round(perr,2)))\n",
    "\n",
    "pdif = ((10**S2-10**S2bar)/10**S2)*100\n",
    "p = ((10**S2bar)/10**S2)*100\n",
    "perr = p*np.sqrt((10**S2barerr/10**S2bar)**2+(S2err/S2)**2)\n",
    "print(str(np.round(p,2)) + ' $\\pm$ ' + str(np.round(perr,2)))\n",
    "\n",
    "pdif = ((10**S3-10**S3bar)/10**S3)*100\n",
    "p = ((10**S3bar)/10**S3)*100\n",
    "perr = p*np.sqrt((10**S3barerr/10**S3bar)**2+(S3err/S3)**2)\n",
    "print(str(np.round(p,2)) + ' $\\pm$ ' + str(np.round(perr,2)))\n",
    "\n",
    "pdif = ((10**S4-10**S4bar)/10**S4)*100\n",
    "p = ((10**S4bar)/10**S4)*100\n",
    "perr = p*np.sqrt((10**S4barerr/10**S4bar)**2+(S4err/S4)**2)\n",
    "print(str(np.round(p,2)) + ' $\\pm$ ' + str(np.round(perr,2)))\n",
    "\n",
    "pdif = ((10**S5-10**S5bar)/10**S5)*100\n",
    "p = ((10**S5bar)/10**S5)*100\n",
    "perr = p*np.sqrt((10**S5barerr/10**S5bar)**2+(S5err/S5)**2)\n",
    "print(str(np.round(p,2)) + ' $\\pm$ ' + str(np.round(perr,2)))\n",
    "\n",
    "pdif = ((10**S6-10**S6bar)/10**S6)*100\n",
    "p = ((10**S6bar)/10**S6)*100\n",
    "perr = p*np.sqrt((10**S6barerr/10**S6bar)**2+(S6err/S6)**2)\n",
    "print(str(np.round(p,2)) + ' $\\pm$ ' + str(np.round(perr,2)))\n",
    "\n",
    "pdif = ((10**S11-10**S11bar)/10**S11)*100\n",
    "p = ((10**S11bar)/10**S11)*100\n",
    "perr = p*np.sqrt((10**S11barerr/10**S11bar)**2+(S11err/S11)**2)\n",
    "print(str(np.round(p,2)) + ' $\\pm$ ' + str(np.round(perr,2)))\n",
    "\n",
    "pdif = ((10**S12-10**S12bar)/10**S12)*100\n",
    "p = ((10**S12bar)/10**S12)*100\n",
    "perr = p*np.sqrt((10**S12barerr/10**S12bar)**2+(S12err/S12)**2)\n",
    "print(str(np.round(p,2)) + ' $\\pm$ ' + str(np.round(perr,2)))\n",
    "\n",
    "pdif = ((10**S13-10**S13bar)/10**S13)*100\n",
    "p = ((10**S13bar)/10**S13)*100\n",
    "perr = p*np.sqrt((10**S13barerr/10**S13bar)**2+(S13err/S13)**2)\n",
    "print(str(np.round(p,2)) + ' $\\pm$ ' + str(np.round(perr,2)))"
   ]
  },
  {
   "cell_type": "code",
   "execution_count": 71,
   "id": "3980732f-b049-45a4-b11f-729b64eb79f4",
   "metadata": {},
   "outputs": [
    {
     "name": "stdout",
     "output_type": "stream",
     "text": [
      "83.18 $\\pm$ 0.87\n",
      "\n",
      "\n",
      "74.13 $\\pm$ 0.67\n",
      "\n",
      "\n",
      "75.86 $\\pm$ 0.36\n"
     ]
    }
   ],
   "source": [
    "p = ((10**S1d)/10**S1)*100\n",
    "perr = p*np.sqrt((S1derr/S1d)**2+(S1err/S1)**2)\n",
    "print(str(np.round(p,2)) + ' $\\pm$ ' + str(np.round(perr,2)))\n",
    "print('\\n')\n",
    "\n",
    "p = ((10**S2d)/10**S2)*100\n",
    "perr = p*np.sqrt((S2derr/S2d)**2+(S2err/S2)**2)\n",
    "print(str(np.round(p,2)) + ' $\\pm$ ' + str(np.round(perr,2)))\n",
    "print('\\n')\n",
    "\n",
    "p = ((10**S3d)/10**S3)*100\n",
    "perr = p*np.sqrt((S3derr/S3d)**2+(S3err/S3)**2)\n",
    "print(str(np.round(p,2)) + ' $\\pm$ ' + str(np.round(perr,2)))"
   ]
  },
  {
   "cell_type": "code",
   "execution_count": 70,
   "id": "1af407db-f808-4b5d-b92b-d3f56235c98f",
   "metadata": {},
   "outputs": [
    {
     "name": "stdout",
     "output_type": "stream",
     "text": [
      "12.02 $\\pm$ 0.13\n",
      "\n",
      "\n",
      "4.47 $\\pm$ 0.04\n",
      "\n",
      "\n",
      "7.41 $\\pm$ 0.04\n"
     ]
    }
   ],
   "source": [
    "p = ((10**S1l)/10**S1)*100\n",
    "perr = p*np.sqrt((S1lerr/S1l)**2+(S1err/S1)**2)\n",
    "print(str(np.round(p,2)) + ' $\\pm$ ' + str(np.round(perr,2)))\n",
    "print('\\n')\n",
    "\n",
    "p = ((10**S2l)/10**S2)*100\n",
    "perr = p*np.sqrt((S2lerr/S2l)**2+(S2err/S2)**2)\n",
    "print(str(np.round(p,2)) + ' $\\pm$ ' + str(np.round(perr,2)))\n",
    "print('\\n')\n",
    "\n",
    "p = ((10**S3l)/10**S3)*100\n",
    "perr = p*np.sqrt((S3lerr/S3l)**2+(S3err/S3)**2)\n",
    "print(str(np.round(p,2)) + ' $\\pm$ ' + str(np.round(perr,2)))"
   ]
  },
  {
   "cell_type": "code",
   "execution_count": 69,
   "id": "07baa55e-5fab-4f7f-97af-b5b2d8bdb3eb",
   "metadata": {},
   "outputs": [
    {
     "name": "stdout",
     "output_type": "stream",
     "text": [
      "3.63 $\\pm$ 0.04\n",
      "\n",
      "\n",
      "0.2 $\\pm$ 0.0\n",
      "\n",
      "\n",
      "4.68 $\\pm$ 0.02\n"
     ]
    }
   ],
   "source": [
    "p = ((10**S1f)/10**S1)*100\n",
    "perr = p*np.sqrt((S1ferr/S1f)**2+(S1err/S1)**2)\n",
    "print(str(np.round(p,2)) + ' $\\pm$ ' + str(np.round(perr,2)))\n",
    "print('\\n')\n",
    "\n",
    "p = ((10**S2f)/10**S2)*100\n",
    "perr = p*np.sqrt((S2ferr/S2f)**2+(S2err/S2)**2)\n",
    "print(str(np.round(p,2)) + ' $\\pm$ ' + str(np.round(perr,2)))\n",
    "print('\\n')\n",
    "\n",
    "p = ((10**S3f)/10**S3)*100\n",
    "perr = p*np.sqrt((S3ferr/S3f)**2+(S3err/S3)**2)\n",
    "print(str(np.round(p,2)) + ' $\\pm$ ' + str(np.round(perr,2)))"
   ]
  },
  {
   "cell_type": "code",
   "execution_count": 65,
   "id": "61688735-7325-4053-a9d0-6c82d3c51f1b",
   "metadata": {},
   "outputs": [
    {
     "name": "stdout",
     "output_type": "stream",
     "text": [
      "1.45 $\\pm$ 0.05\n",
      "\n",
      "\n",
      "18.2 $\\pm$ 0.23\n",
      "\n",
      "\n",
      "2.95 $\\pm$ 0.04\n"
     ]
    }
   ],
   "source": [
    "p = ((10**S1a)/10**S1)*100\n",
    "perr = p*np.sqrt((S1aerr/S1a)**2+(S1err/S1)**2)\n",
    "print(str(np.round(p,2)) + ' $\\pm$ ' + str(np.round(perr,2)))\n",
    "print('\\n')\n",
    "\n",
    "p = ((10**S2a)/10**S2)*100\n",
    "perr = p*np.sqrt((S2aerr/S2a)**2+(S2err/S2)**2)\n",
    "print(str(np.round(p,2)) + ' $\\pm$ ' + str(np.round(perr,2)))\n",
    "print('\\n')\n",
    "\n",
    "p = ((10**S3a)/10**S3)*100\n",
    "perr = p*np.sqrt((S3aerr/S3a)**2+(S3err/S3)**2)\n",
    "print(str(np.round(p,2)) + ' $\\pm$ ' + str(np.round(perr,2)))"
   ]
  },
  {
   "cell_type": "code",
   "execution_count": 6,
   "id": "7e605c20-1d12-4f25-b508-c3eff167bac9",
   "metadata": {
    "collapsed": true,
    "jupyter": {
     "outputs_hidden": true,
     "source_hidden": true
    },
    "tags": []
   },
   "outputs": [
    {
     "name": "stdout",
     "output_type": "stream",
     "text": [
      "15.64 $\\pm$ 0.16\n",
      "\n",
      "\n",
      "4.47 $\\pm$ 0.04\n",
      "\n",
      "\n",
      "12.09 $\\pm$ 0.06\n"
     ]
    }
   ],
   "source": [
    "pdif = ((10**S1-(10**S1f+10**S1l))/10**S1)*100\n",
    "p = ((10**S1f+10**S1l)/10**S1)*100\n",
    "perr = p*np.sqrt(((10**S1ferr+10**S1lerr)/(10**S1f+10**S1l))**2+(S1err/S1)**2)\n",
    "print(str(np.round(p,2)) + ' $\\pm$ ' + str(np.round(perr,2)))\n",
    "print('\\n')\n",
    "pdif = ((10**S2-(10**S2f+10**S2l))/10**S2)*100\n",
    "p = ((10**S2f+10**S2l)/10**S2)*100\n",
    "perr = p*np.sqrt(((10**S2ferr+10**S2lerr)/(10**S2f+10**S2l))**2+(S2err/S2)**2)\n",
    "print(str(np.round(p,2)) + ' $\\pm$ ' + str(np.round(perr,2)))\n",
    "print('\\n')\n",
    "pdif = ((10**S3-(10**S3f+10**S1l))/10**S3)*100\n",
    "p = ((10**S3f+10**S3l)/10**S3)*100\n",
    "perr = p*np.sqrt(((10**S3ferr+10**S3lerr)/(10**S3f+10**S3l))**2+(S3err/S3)**2)\n",
    "print(str(np.round(p,2)) + ' $\\pm$ ' + str(np.round(perr,2)))"
   ]
  },
  {
   "cell_type": "code",
   "execution_count": 64,
   "id": "f03f48c6-94a3-4a6f-a6e2-5c0ad95e55f0",
   "metadata": {},
   "outputs": [
    {
     "name": "stdout",
     "output_type": "stream",
     "text": [
      "98.83 $\\pm$ 1.2\n",
      "\n",
      "\n",
      "78.8 $\\pm$ 1.07\n",
      "\n",
      "\n",
      "87.95 $\\pm$ 0.47\n"
     ]
    }
   ],
   "source": [
    "p = ((10**S1d+10**S1f+10**S1l)/10**S1)*100\n",
    "perr = p*np.sqrt(((S1derr+S1ferr+S1lerr)/(np.log10(10**S1d+10**S1f+10**S1l)))**2+(S1err/S1)**2)\n",
    "print(str(np.round(p,2)) + ' $\\pm$ ' + str(np.round(perr,2)))\n",
    "print('\\n')\n",
    "\n",
    "p = ((10**S2d+10**S2f+10**S2l)/10**S2)*100\n",
    "perr = p*np.sqrt(((S2derr+S2ferr+S2lerr)/(np.log10(10**S2d+10**S2f+10**S2l)))**2+(S2err/S2)**2)\n",
    "print(str(np.round(p,2)) + ' $\\pm$ ' + str(np.round(perr,2)))\n",
    "print('\\n')\n",
    "\n",
    "p = ((10**S3d+10**S3f+10**S3l)/10**S3)*100\n",
    "perr = p*np.sqrt(((S3derr+S3ferr+S3lerr)/(np.log10(10**S3d+10**S3f+10**S3l)))**2+(S3err/S3)**2)\n",
    "print(str(np.round(p,2)) + ' $\\pm$ ' + str(np.round(perr,2)))"
   ]
  },
  {
   "cell_type": "code",
   "execution_count": 46,
   "id": "a0986b09-0749-4c57-a20e-e2e7ef480ce4",
   "metadata": {
    "collapsed": true,
    "jupyter": {
     "outputs_hidden": true,
     "source_hidden": true
    },
    "tags": []
   },
   "outputs": [
    {
     "name": "stdout",
     "output_type": "stream",
     "text": [
      "8.91 $\\pm$ 0.32\n",
      "\n",
      "\n",
      "8.33 $\\pm$ 0.33\n",
      "\n",
      "\n",
      "9.41 $\\pm$ 0.31\n"
     ]
    }
   ],
   "source": [
    "p = (10**S1f+10**S1l)\n",
    "perr = (10**S1ferr+10**S1lerr)\n",
    "print(str(np.round(np.log10(p),2)) + ' $\\pm$ ' + str(np.round(np.log10(perr),2)))\n",
    "print('\\n')\n",
    "\n",
    "p = (10**S2f+10**S2l)\n",
    "perr = (10**S2ferr+10**S2lerr)\n",
    "print(str(np.round(np.log10(p),2)) + ' $\\pm$ ' + str(np.round(np.log10(perr),2)))\n",
    "print('\\n')\n",
    "\n",
    "p = (10**S3f+10**S3l)\n",
    "perr = (10**S3ferr+10**S3lerr)\n",
    "print(str(np.round(np.log10(p),2)) + ' $\\pm$ ' + str(np.round(np.log10(perr),2)))"
   ]
  },
  {
   "cell_type": "code",
   "execution_count": 59,
   "id": "c7ad12d7-d48c-4c95-b69b-db00c71c707e",
   "metadata": {},
   "outputs": [
    {
     "name": "stdout",
     "output_type": "stream",
     "text": [
      "9.75 $\\pm$ 0.06\n",
      "\n",
      "\n",
      "9.58 $\\pm$ 0.1\n",
      "\n",
      "\n",
      "10.27 $\\pm$ 0.03\n"
     ]
    }
   ],
   "source": [
    "\n",
    "p = (10**S1d+10**S1f+10**S1l)\n",
    "perr = (S1derr+S1ferr+S1lerr)\n",
    "print(str(np.round(np.log10(p),2)) + ' $\\pm$ ' + str(np.round(perr,2)))\n",
    "print('\\n')\n",
    "\n",
    "p = (10**S2d+10**S2f+10**S2l)\n",
    "perr = (S2derr+S2ferr+S2lerr)\n",
    "print(str(np.round(np.log10(p),2)) + ' $\\pm$ ' + str(np.round(perr,2)))\n",
    "print('\\n')\n",
    "\n",
    "p = (10**S3d+10**S3f+10**S3l)\n",
    "perr = (S3derr+S3ferr+S3lerr)\n",
    "print(str(np.round(np.log10(p),2)) + ' $\\pm$ ' + str(np.round(perr,2)))"
   ]
  },
  {
   "cell_type": "code",
   "execution_count": 15,
   "id": "78a006a8-b9d1-4405-ac08-80e55b575c23",
   "metadata": {},
   "outputs": [
    {
     "name": "stdout",
     "output_type": "stream",
     "text": [
      "10.98 $\\pm$ 0.2\n",
      "9.93 $\\pm$ 0.24\n",
      "10.55 $\\pm$ 0.21\n",
      "9.46 $\\pm$ 0.34\n"
     ]
    }
   ],
   "source": [
    "S1full = (10**(9.76)+10**(10.95))\n",
    "S1fullerr = (0.10+0.10)\n",
    "print(str(np.round(np.log10(S1full),2)) + ' $\\pm$ ' + str(np.round(S1fullerr,2)))\n",
    "RS1 = 0.7*60\n",
    "RS1 = 31.68\n",
    "\n",
    "\n",
    "S2full = (10**(9.68)+10**(9.56))\n",
    "S2fullerr = (0.10+0.14)\n",
    "print(str(np.round(np.log10(S2full),2)) + ' $\\pm$ ' + str(np.round(S2fullerr,2)))\n",
    "RS2 = 29\n",
    "RS2 = 30.94\n",
    "\n",
    "S3full = (10**(10.33)+10**(10.16))\n",
    "S3fullerr = (0.10+0.11)\n",
    "print(str(np.round(np.log10(S3full),2)) + ' $\\pm$ ' + str(np.round(S3fullerr,2)))\n",
    "RS3 = 1.5*60\n",
    "RS3 = 64.79\n",
    "\n",
    "S7full = (10**(9.03)+10**(9.26))\n",
    "S7fullerr = (0.14+0.20)\n",
    "print(str(np.round(np.log10(S7full),2)) + ' $\\pm$ ' + str(np.round(S7fullerr,2)))\n",
    "RS7 = 15\n",
    "RS7 = 7.67"
   ]
  },
  {
   "cell_type": "code",
   "execution_count": 7,
   "id": "8f839565-0cf3-40b8-9d91-46b5fe510ded",
   "metadata": {},
   "outputs": [
    {
     "name": "stdout",
     "output_type": "stream",
     "text": [
      "28.851577094039953\n",
      "0.007343613155067375\n"
     ]
    }
   ],
   "source": [
    "rt31 = RS1*(2*(S3full/S1full))**(1/3)\n",
    "rt31err = RS1*(2*(np.sqrt((S1fullerr/S1full)**2+(S3fullerr/S3full)**2)))**(1/3)\n",
    "print(rt31)\n",
    "print(rt31err)"
   ]
  },
  {
   "cell_type": "code",
   "execution_count": 9,
   "id": "22997ccc-431e-4b72-978f-dd45928a2773",
   "metadata": {},
   "outputs": [
    {
     "name": "stdout",
     "output_type": "stream",
     "text": [
      "63.17932319559194\n",
      "0.011991541037052637\n"
     ]
    }
   ],
   "source": [
    "rt32 = RS2*(2*(S3full/S2full))**(1/3)\n",
    "rt32err = RS2*(2*(np.sqrt((S2fullerr/S2full)**2+(S3fullerr/S3full)**2)))**(1/3)\n",
    "print(rt32)\n",
    "print(rt32err)"
   ]
  },
  {
   "cell_type": "code",
   "execution_count": 13,
   "id": "415477f6-65af-4ff9-8e10-df1aa19c07f4",
   "metadata": {},
   "outputs": [
    {
     "name": "stdout",
     "output_type": "stream",
     "text": [
      "22.371043540553824\n",
      "0.004737983867995444\n"
     ]
    }
   ],
   "source": [
    "rt37 = RS7*(2*(S3full/S7full))**(1/3)\n",
    "rt37err = RS7*(2*(np.sqrt((S7fullerr/S7full)**2+(S3fullerr/S3full)**2)))**(1/3)\n",
    "print(rt37)\n",
    "print(rt37err)"
   ]
  }
 ],
 "metadata": {
  "kernelspec": {
   "display_name": "Python 3 (ipykernel)",
   "language": "python",
   "name": "python3"
  },
  "language_info": {
   "codemirror_mode": {
    "name": "ipython",
    "version": 3
   },
   "file_extension": ".py",
   "mimetype": "text/x-python",
   "name": "python",
   "nbconvert_exporter": "python",
   "pygments_lexer": "ipython3",
   "version": "3.7.12"
  }
 },
 "nbformat": 4,
 "nbformat_minor": 5
}
