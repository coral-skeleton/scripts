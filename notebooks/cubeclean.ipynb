{
 "cells": [
  {
   "cell_type": "code",
   "execution_count": 1,
   "id": "e8846b7f-4aef-4e5b-99c2-1c96ef888cee",
   "metadata": {},
   "outputs": [],
   "source": [
    "import numpy as np\n",
    "import matplotlib.pyplot as plt\n",
    "from matplotlib.colors import LogNorm\n",
    "import math\n",
    "\n",
    "import astropy.units as u\n",
    "from astropy.utils.data import download_file\n",
    "from astropy.io import fits  # We use fits to open the actual data file\n",
    "\n",
    "from astropy.utils import data\n",
    "data.conf.remote_timeout = 60\n",
    "\n",
    "from spectral_cube import SpectralCube\n",
    "\n",
    "#from astroquery.esasky import ESASky\n",
    "#from astroquery.utils import TableList\n",
    "from astropy.wcs import WCS\n",
    "#from reproject import reproject_interp"
   ]
  },
  {
   "cell_type": "code",
   "execution_count": 6,
   "id": "852cb388-2805-4c23-982e-634fc3ef2b54",
   "metadata": {},
   "outputs": [
    {
     "name": "stdout",
     "output_type": "stream",
     "text": [
      "SpectralCube with shape=(189, 2048, 2048) and unit=Jy / beam:\n",
      " n_x:   2048  type_x: RA---SIN  unit_x: deg    range:   164.239942 deg:  165.396040 deg\n",
      " n_y:   2048  type_y: DEC--SIN  unit_y: deg    range:   -10.362355 deg:   -9.225115 deg\n",
      " n_s:    189  type_s: VRAD      unit_s: m / s  range:  7508465.359 m / s: 8544933.433 m / s\n"
     ]
    }
   ],
   "source": [
    "loc = 'data/'\n",
    "vers = 'pbcorr' \n",
    "name= '_J1059_09_HI.image'\n",
    "fullname = loc+vers+name\n",
    "ext = '.fits'\n",
    "image = ''\n",
    "mask = '_mask'\n",
    "outloc = loc +vers+name\n",
    "imagename = fullname+image+ext\n",
    "hdu_list = fits.open(imagename)\n",
    "cube = SpectralCube.read(hdu_list)\n",
    "print(cube)"
   ]
  },
  {
   "cell_type": "code",
   "execution_count": 3,
   "id": "1a08d3e8-069d-43a9-b82f-aaa6ff13fd02",
   "metadata": {},
   "outputs": [
    {
     "name": "stdout",
     "output_type": "stream",
     "text": [
      "Filename: data/pbcorr_J1059_09_HI.image.fits\n",
      "No.    Name      Ver    Type      Cards   Dimensions   Format\n",
      "  0  PRIMARY       1 PrimaryHDU     633   (2048, 2048, 189)   float32   \n",
      "Filename: data/pbcorr_J1059_09_HI.image_mask.fits\n",
      "No.    Name      Ver    Type      Cards   Dimensions   Format\n",
      "  0  PRIMARY       1 PrimaryHDU     780   (2048, 2048, 189)   int16   \n",
      "<class 'numpy.ndarray'>\n",
      "(189, 2048, 2048)\n",
      "<class 'numpy.ndarray'>\n",
      "(189, 2048, 2048)\n"
     ]
    }
   ],
   "source": [
    "hdu_list = fits.open(fullname+image+ext)\n",
    "hdu_list.info()\n",
    "hdu1_list = fits.open(fullname+mask+ext)\n",
    "hdu1_list.info()\n",
    "data_image = fits.getdata(fullname+image+ext)\n",
    "header_image = fits.getheader(fullname+image+ext)\n",
    "data_mask = fits.getdata(fullname+mask+ext)\n",
    "header_mask = fits.getheader(fullname+mask+ext)\n",
    "print(type(data_image))\n",
    "print(data_image.shape)\n",
    "print(type(data_mask))\n",
    "print(data_mask.shape)"
   ]
  },
  {
   "cell_type": "code",
   "execution_count": 4,
   "id": "c29af017-9dfd-4b2b-82df-2d829fcca69e",
   "metadata": {},
   "outputs": [],
   "source": [
    "masked1 = data_image*~data_mask"
   ]
  },
  {
   "cell_type": "code",
   "execution_count": 7,
   "id": "3de3e3f3-4870-42b2-89a9-3bf90873a46b",
   "metadata": {},
   "outputs": [],
   "source": [
    "hdu = fits.PrimaryHDU(masked1, header=header_image)\n",
    "hdu.writeto(outloc+'_masked_inverse'+ext, overwrite=True)"
   ]
  },
  {
   "cell_type": "code",
   "execution_count": null,
   "id": "a7696501-e689-463c-9765-392e72dc592e",
   "metadata": {},
   "outputs": [],
   "source": [
    "masked2 = data_image*data_mask"
   ]
  },
  {
   "cell_type": "code",
   "execution_count": null,
   "id": "2246198d-a1b0-4537-b36c-a25850a2dc8a",
   "metadata": {},
   "outputs": [],
   "source": [
    "hdu = fits.PrimaryHDU(masked2, header=header_image)\n",
    "hdu.writeto(outloc+'_masked'+ext, overwrite=True)"
   ]
  }
 ],
 "metadata": {
  "kernelspec": {
   "display_name": "Python 3 (ipykernel)",
   "language": "python",
   "name": "python3"
  },
  "language_info": {
   "codemirror_mode": {
    "name": "ipython",
    "version": 3
   },
   "file_extension": ".py",
   "mimetype": "text/x-python",
   "name": "python",
   "nbconvert_exporter": "python",
   "pygments_lexer": "ipython3",
   "version": "3.9.12"
  }
 },
 "nbformat": 4,
 "nbformat_minor": 5
}
