{
 "cells": [
  {
   "cell_type": "code",
   "execution_count": 1,
   "id": "2333887a-6734-4db3-84b2-a2e251106184",
   "metadata": {
    "tags": []
   },
   "outputs": [],
   "source": [
    "import numpy as np\n",
    "import os\n",
    "\n",
    "from astropy import units as u\n",
    "from astropy.io import fits\n",
    "from astropy.wcs import WCS\n",
    "import gausspyplus.plotting as gplt \n",
    "from tqdm import tqdm\n",
    "import math\n",
    "import itertools\n",
    "\n",
    "import pickle\n",
    "import random\n",
    "import sys\n",
    "\n",
    "import matplotlib\n",
    "import matplotlib.gridspec as gridspec\n",
    "import matplotlib.pyplot as plt\n",
    "\n",
    "from astropy import units as u\n",
    "\n",
    "from gausspyplus.utils.spectral_cube_functions import correct_header, change_header, update_header\n",
    "\n",
    "import makegaussfits as mf"
   ]
  },
  {
   "cell_type": "code",
   "execution_count": 2,
   "id": "740438c9-893f-48ee-b2d4-432166b3535a",
   "metadata": {
    "tags": []
   },
   "outputs": [],
   "source": [
    "def pickle_load(path_to_file, binary=True, encoding='latin1'):\n",
    "    import pickle\n",
    "    read = 'r'\n",
    "    if binary:\n",
    "        read = 'rb'\n",
    "    with open(path_to_file, read) as pickled_file:\n",
    "        pickled_data = pickle.load(pickled_file, encoding=encoding)\n",
    "    return pickled_data"
   ]
  },
  {
   "cell_type": "code",
   "execution_count": 2,
   "id": "e2719acb-0e45-48bc-ba9d-e7b391704c77",
   "metadata": {
    "tags": []
   },
   "outputs": [
    {
     "name": "stdout",
     "output_type": "stream",
     "text": [
      "<class 'numpy.ndarray'>\n",
      "(189, 100, 100)\n",
      "<class 'numpy.ndarray'>\n",
      "(189, 250, 200)\n"
     ]
    },
    {
     "name": "stderr",
     "output_type": "stream",
     "text": [
      "\n",
      "\u001b[93mWARNING:\u001b[0m UserWarning: BUNIT keyword value is an invalid unit. Assuming BUNIT=K\n",
      "\n",
      "\u001b[93mWARNING:\u001b[0m UserWarning: CUNIT3 keyword not found in header. Assuming CUNIT3=m/s\n",
      "\n",
      "\u001b[93mWARNING:\u001b[0m FITSFixedWarning: SPECSYS3= 'BARYCENT' \n",
      "invalid alternate code, keyword resembles SPECSYSa but isn't.\n",
      "\n",
      "\u001b[93mWARNING:\u001b[0m FITSFixedWarning: 'datfix' made the change 'Set MJD-OBS to 59962.894199 from DATE-OBS'.\n"
     ]
    }
   ],
   "source": [
    "data = mf.pickle_load(\n",
    "    os.path.join('results','decomposition_S1237', 'gpy_prepared', 'pbcorr_J1059_09_HI.image_S1237.pickle'))\n",
    "\n",
    "decomp = mf.pickle_load(\n",
    "    os.path.join('results','decomposition_S1237', 'gpy_decomposed', 'pbcorr_J1059_09_HI.image_S1237_g+_fit_fin_sf-p2.pickle'))\n",
    "\n",
    "cubefile = 'data/pbcorr_J1059_09_HI.image_S1237.fits'\n",
    "mom0 = 'data/pbcorr_J1059_09_HI.image_mom0_S1237.fits'\n",
    "\n",
    "S3 = 'data/pbcorr_J1059_09_HI.image_S3.fits'\n",
    "S3mom0 = 'data/pbcorr_J1059_09_HI.image_mom0_S3.fits'\n",
    "S2 = 'data/pbcorr_J1059_09_HI.image_S3_3D_cube_full_S2.fits'\n",
    "S2mom0 = 'data/pbcorr_J1059_09_HI.image_S3_3D_cube_full_S2_mom0.fits'\n",
    "S1 = 'data/pbcorr_J1059_09_HI.image_S3_S1_100.fits'\n",
    "S1mom0 = 'data/pbcorr_J1059_09_HI.image_S3_S1_100_mom0.fits'\n",
    "\n",
    "bbmodel = 'output_3d/J1059-09_S3_fixed/J1059-09mod_local.fits'\n",
    "fullmodel = 'data/models/pbcorr_J1059_09_HI.image_S3_3D_model_full.fits'\n",
    "S1model100 = 'data/models/pbcorr_J1059_09_HI.image_S3_3D_model_S1_100.fits'\n",
    "\n",
    "S1model = 'data/models/pbcorr_J1059_09_HI.image_S3_3D_model_full_S1.fits'\n",
    "S2model = 'data/models/pbcorr_J1059_09_HI.image_S3_3D_model_full_S2.fits'\n",
    "S3model = 'data/models/pbcorr_J1059_09_HI.image_S3_3D_model_full_S3.fits'\n",
    "\n",
    "cube_image = fits.getdata(cubefile)\n",
    "header_cube = fits.getheader(cubefile)\n",
    "cube_mom0 = fits.getdata(mom0)\n",
    "header_mom0 = fits.getheader(mom0)\n",
    "\n",
    "S3_image = fits.getdata(bbmodel)\n",
    "S3_header = fits.getheader(bbmodel)\n",
    "mod_image = fits.getdata(fullmodel)\n",
    "mod_header = fits.getheader(fullmodel)\n",
    "\n",
    "S1_cube = fits.getdata(S1)\n",
    "S1_cheader = fits.getheader(S1)\n",
    "S1_mom0 = fits.getdata(S1mom0)\n",
    "S1_headermom0 = fits.getheader(S1mom0)\n",
    "\n",
    "\n",
    "S2_cube = fits.getdata(S2)\n",
    "S2_cheader = fits.getheader(S2)\n",
    "S2_mom0 = fits.getdata(S2mom0)\n",
    "S2_headermom0 = fits.getheader(S2mom0)\n",
    "\n",
    "S3_cube = fits.getdata(S3)\n",
    "S3_cheader = fits.getheader(S3)\n",
    "S3_mom0 = fits.getdata(S3mom0)\n",
    "S3_headermom0 = fits.getheader(S3mom0)\n",
    "\n",
    "S1_image = fits.getdata(S1model100)\n",
    "S1_header = fits.getheader(S1model100)\n",
    "S1_image_full = fits.getdata(S1model)\n",
    "S1_header_full = fits.getheader(S1model)\n",
    "S2_image = fits.getdata(S2model)\n",
    "S2_header = fits.getheader(S2model)\n",
    "S3_image_full = fits.getdata(S3model)\n",
    "S3_header_full = fits.getheader(S3model)\n",
    "\n",
    "\n",
    "\n",
    "header = correct_header(data['header'])\n",
    "wcs = WCS(header)\n",
    "_, _, velocity_offset = wcs.wcs_pix2world(0, 0, 0, 0)\n",
    "to_kms = wcs.wcs.cdelt[2]*wcs.wcs.cunit[2].to(u.km/u.s)  # conversion factor from channel units to km/s\n",
    "velocity_offset_kms = velocity_offset * wcs.wcs.cunit[2].to(u.km/u.s)  # offset in spectral axis\n",
    "\n",
    "header_pp = change_header(header, format='pp')  # create header for positon-position fits file\n",
    "\n",
    "array = np.ones((header_pp['NAXIS2'], header_pp['NAXIS1'])) * np.nan\n",
    "array_amp = array.copy()\n",
    "array_fwhm = array.copy()\n",
    "array_mean = array.copy()\n",
    "print(type(S3_image))\n",
    "print(S3_image.shape)\n",
    "print(type(cube_image))\n",
    "print(cube_image.shape)"
   ]
  },
  {
   "cell_type": "code",
   "execution_count": 6,
   "id": "c9d2805c-ad4d-4736-abca-8d012a7e037e",
   "metadata": {
    "tags": []
   },
   "outputs": [],
   "source": [
    "def getgauss( pixel_range = None):\n",
    "    \n",
    "    vel_unit=u.km/u.s\n",
    "    cols=5\n",
    "    rowsize=7.75\n",
    "    rowbreak=50\n",
    "    dpi=50\n",
    "    n_spectra=None\n",
    "    suffix=''\n",
    "    subcube=False\n",
    "    list_indices=None\n",
    "    gaussians=True\n",
    "    residual=True\n",
    "    \n",
    "    random_seed=111\n",
    "    \n",
    "    channels, fig_channels = (data['x_values'] for _ in range(2))\n",
    "    n_channels = len(channels)\n",
    "    \n",
    "    header = gplt.correct_header(data['header'])\n",
    "    \n",
    "    \n",
    "    list_indices, n_spectra, grid_layout = gplt.get_list_indices(data, subcube=subcube, pixel_range=pixel_range, list_indices=list_indices, n_spectra=n_spectra, \n",
    "                                                                 random_seed=random_seed)\n",
    "    cols, rows, rowbreak, colsize, multiple_pdfs = gplt.get_figure_params(n_channels, n_spectra, cols, rowsize, rowbreak, grid_layout, subcube=subcube)\n",
    "    \n",
    "    pbar = tqdm(total=n_spectra)\n",
    "    \n",
    "    for i, idx in enumerate(list_indices):\n",
    "        pbar.update(1)\n",
    "        yi, xi = data['location'][idx]\n",
    "        index_data = data['index'][idx]\n",
    "        \n",
    "        if rowbreak is not None:\n",
    "            k = int(i / (rowbreak*cols))\n",
    "            if (k + 1)*rowbreak > rows:\n",
    "                rows_in_figure = rows - k*rowbreak\n",
    "\n",
    "            else:\n",
    "                rows_in_figure = rowbreak\n",
    "\n",
    "        y = data['data_list'][idx]\n",
    "        rms = data['error'][idx][0]\n",
    "        \n",
    "        fit_fwhms = decomp['fwhms_fit'][idx]\n",
    "        fit_means = decomp['means_fit'][idx]\n",
    "        fit_amps = decomp['amplitudes_fit'][idx]\n",
    "        \n",
    "        gauss = gplt.combined_gaussian(fit_amps, fit_fwhms, fit_means, channels)\n",
    "        \n",
    "        \n",
    "    return(gauss)"
   ]
  },
  {
   "cell_type": "code",
   "execution_count": 7,
   "id": "2c9de941-65d5-4028-9480-de8023f728b3",
   "metadata": {
    "tags": []
   },
   "outputs": [],
   "source": [
    "def getdisk(xm,ym, pixel_range = None):\n",
    "    \n",
    "    n_spectra=None\n",
    "    subcube=False\n",
    "    list_indices=None\n",
    "    gaussians=True\n",
    "    \n",
    "    random_seed=111\n",
    "    \n",
    "    channels, fig_channels = (data['x_values'] for _ in range(2))\n",
    "    n_channels = len(channels)\n",
    "    \n",
    "    \n",
    "    \n",
    "    list_indices, n_spectra, grid_layout = gplt.get_list_indices(data, subcube=subcube, pixel_range=pixel_range, list_indices=list_indices, \n",
    "                                                                 n_spectra=n_spectra, random_seed=random_seed)\n",
    "\n",
    "    \n",
    "    for i, idx in enumerate(list_indices):\n",
    "\n",
    "        yi, xi = data['location'][idx]\n",
    "        index_data = data['index'][idx]\n",
    "\n",
    "        y = data['data_list'][idx]\n",
    "        rms = data['error'][idx][0]\n",
    "        \n",
    "        fit_fwhms = decomp['fwhms_fit'][idx]\n",
    "        fit_means = decomp['means_fit'][idx]\n",
    "        fit_amps = decomp['amplitudes_fit'][idx]\n",
    "\n",
    "        gauss = np.zeros(189)\n",
    "        min_diff = 189\n",
    "        minj = 0\n",
    "        ncomps = len(fit_amps)\n",
    "        \n",
    "        max_chan = 0\n",
    "        max_flux = 0\n",
    "\n",
    "        for i in range(len(bb_image[:,yi,xi])):\n",
    "            if bb_image[i,yi,xi] > max_flux :\n",
    "                max_chan = i\n",
    "                max_flux = bb_image[i,yi,xi]\n",
    "        \n",
    "        for j in range(ncomps):\n",
    "            if ((np.abs(max_chan-fit_means[j])) < min_diff) and max_flux > 0:\n",
    "                min_diff = np.abs(max_chan-fit_means[j])\n",
    "                minj = j\n",
    "                gauss = gplt.gaussian(fit_amps[minj], fit_fwhms[minj], fit_means[minj], channels)\n",
    "            \n",
    "        \n",
    "    return(gauss)"
   ]
  },
  {
   "cell_type": "code",
   "execution_count": 8,
   "id": "5503e673-891b-4455-b836-5c26ccad1a0c",
   "metadata": {
    "tags": []
   },
   "outputs": [],
   "source": [
    "def getcomps(xm,ym, model, cube, mom0, vsys, pixel_range = None):\n",
    "    \n",
    "    n_spectra=None\n",
    "    subcube=False\n",
    "    list_indices=None\n",
    "    gaussians=True\n",
    "    random_seed=111\n",
    "    dv = 8544.9290-8539.4159\n",
    "\n",
    "    \n",
    "    channels, fig_channels = (data['x_values'] for _ in range(2))\n",
    "    n_channels = len(channels)\n",
    "    \n",
    "    \n",
    "    list_indices, n_spectra, grid_layout = gplt.get_list_indices(data, subcube=subcube, pixel_range=pixel_range, list_indices=list_indices, \n",
    "                                                                 n_spectra=n_spectra, random_seed=random_seed)\n",
    "\n",
    "\n",
    "    for i, idx in enumerate(list_indices):\n",
    "\n",
    "        yi, xi = data['location'][idx]\n",
    "        index_data = data['index'][idx]\n",
    "\n",
    "        y = data['data_list'][idx]\n",
    "        rms = data['error'][idx][0]\n",
    "        \n",
    "        fit_fwhms = decomp['fwhms_fit'][idx]\n",
    "        fit_means = decomp['means_fit'][idx]\n",
    "        fit_amps = decomp['amplitudes_fit'][idx]\n",
    "\n",
    "        gaussdisk = np.zeros(189)\n",
    "        gausslead = np.zeros(189)\n",
    "        gaussfollow = np.zeros(189)\n",
    "        gaussanom = np.zeros(189)\n",
    "        anommom = 0\n",
    "        min_diff = 189\n",
    "        minj = 0\n",
    "        ncomps = len(fit_amps)\n",
    "        \n",
    "        max_chan = 0\n",
    "        max_flux = 0\n",
    "        vel = 0\n",
    "\n",
    "        means = np.empty(ncomps)\n",
    "        tag = np.empty(ncomps)\n",
    "        diskcomp = 0\n",
    "        \n",
    "        for i in range(len(model[:,yi,xi])):\n",
    "            if model[i,yi,xi] > max_flux  :\n",
    "                max_chan = i\n",
    "                max_flux = model[i,yi,xi]\n",
    "        \n",
    "        for j in range(ncomps):\n",
    "            if ((np.abs(max_chan-fit_means[j])) < min_diff) and max_flux > 0:\n",
    "                min_diff = np.abs(max_chan-fit_means[j])\n",
    "                minj = j\n",
    "                gaussdisk = gplt.gaussian(fit_amps[minj], fit_fwhms[minj], fit_means[minj], channels)\n",
    "                diskcomp = fit_means[minj]\n",
    "                \n",
    "                \n",
    "        direction = (8544.9290 - diskcomp*dv) - vsys\n",
    "\n",
    "        if direction > 0 :\n",
    "            for j in range(ncomps):\n",
    "                comp = fit_means[j]-diskcomp\n",
    "                if comp > 0 and max_flux > 0:\n",
    "                    gausslead = gplt.gaussian(fit_amps[j], fit_fwhms[j], fit_means[j], channels)\n",
    "                elif comp < 0 and max_flux > 0:\n",
    "                    gaussfollow = gplt.gaussian(fit_amps[j], fit_fwhms[j], fit_means[j], channels)\n",
    "                \n",
    "        else:\n",
    "            for j in range(ncomps):\n",
    "                comp = fit_means[j]-diskcomp\n",
    "                if comp < 0 and max_flux > 0:\n",
    "                    gausslead = gplt.gaussian(fit_amps[j], fit_fwhms[j], fit_means[j], channels)\n",
    "                elif comp > 0 and max_flux > 0:\n",
    "                    gaussfollow = gplt.gaussian(fit_amps[j], fit_fwhms[j], fit_means[j], channels)\n",
    "                \n",
    "        if ncomps == 0:\n",
    "            gaussanom = cube[:,yi,xi]\n",
    "            anommom = mom0[yi,xi]\n",
    "            \n",
    "        \n",
    "    return(gaussdisk, gausslead, gaussfollow, gaussanom, anommom)\n",
    "    "
   ]
  },
  {
   "cell_type": "code",
   "execution_count": 48,
   "id": "a9e82aff-712d-4d73-a132-c4720163450a",
   "metadata": {
    "jupyter": {
     "source_hidden": true
    },
    "tags": []
   },
   "outputs": [],
   "source": [
    "cube_copy = np.empty_like(cube_image)\n",
    "cube_lead = np.empty_like(cube_image)\n",
    "cube_follow = np.empty_like(cube_image)\n",
    "\n",
    "s = len(cube_copy[:,0,0])\n",
    "x = len(cube_copy[0,:,0])\n",
    "y = len(cube_copy[0,0,:])\n",
    "k = 0\n",
    "\n",
    "for i in range(0,10):\n",
    "    for j in range(0,y):\n",
    "        \n",
    "        pixel_range =   {'x': [j,j], 'y': [i,i]}\n",
    "        gaussdisk, gausslead, gaussfollow = getcomps(j, i, pixel_range = pixel_range)\n",
    "        cube_copy[:,i,j] = gaussdisk\n",
    "        cube_lead[:,i,j] = gausslead\n",
    "        cube_follow[:,i,j] = gaussfollow\n",
    "       \n",
    "    \n",
    "    \n",
    "k = k+i+1"
   ]
  },
  {
   "cell_type": "code",
   "execution_count": 49,
   "id": "a345a0e0-f724-4404-a147-b2e19633a89a",
   "metadata": {
    "jupyter": {
     "source_hidden": true
    },
    "tags": []
   },
   "outputs": [],
   "source": [
    "for i in range(0,10):\n",
    "    for j in range(0,y):\n",
    "        pixel_range =   {'x': [j,j], 'y': [i+k,i+k]}\n",
    "        gaussdisk, gausslead, gaussfollow = getcomps(j, i, pixel_range = pixel_range)\n",
    "        cube_copy[:,i+k,j] = gaussdisk\n",
    "        cube_lead[:,i+k,j] = gausslead\n",
    "        cube_follow[:,i+k,j] = gaussfollow\n",
    "        \n",
    "k = k+i+1"
   ]
  },
  {
   "cell_type": "code",
   "execution_count": 50,
   "id": "6057cd31-0593-489b-b0ec-708218d07992",
   "metadata": {
    "jupyter": {
     "source_hidden": true
    },
    "tags": []
   },
   "outputs": [],
   "source": [
    "for i in range(0,10):\n",
    "    for j in range(0,y):\n",
    "        pixel_range =   {'x': [j,j], 'y': [i+k,i+k]}\n",
    "        gaussdisk, gausslead, gaussfollow = getcomps(j, i, pixel_range = pixel_range)\n",
    "        cube_copy[:,i+k,j] = gaussdisk\n",
    "        cube_lead[:,i+k,j] = gausslead\n",
    "        cube_follow[:,i+k,j] = gaussfollow\n",
    "        \n",
    "k = k+i+1"
   ]
  },
  {
   "cell_type": "code",
   "execution_count": 51,
   "id": "17811887-ac4e-4c17-895e-5788f5eebe5b",
   "metadata": {
    "jupyter": {
     "source_hidden": true
    },
    "tags": []
   },
   "outputs": [],
   "source": [
    "for i in range(0,10):\n",
    "    for j in range(0,y):\n",
    "        pixel_range =   {'x': [j,j], 'y': [i+k,i+k]}\n",
    "        gaussdisk, gausslead, gaussfollow = getcomps(j, i, pixel_range = pixel_range)\n",
    "        cube_copy[:,i+k,j] = gaussdisk\n",
    "        cube_lead[:,i+k,j] = gausslead\n",
    "        cube_follow[:,i+k,j] = gaussfollow\n",
    "        \n",
    "k = k+i+1"
   ]
  },
  {
   "cell_type": "code",
   "execution_count": 52,
   "id": "30e65ec9-f365-41f0-a37b-b2be17c3b2c5",
   "metadata": {
    "jupyter": {
     "source_hidden": true
    },
    "tags": []
   },
   "outputs": [],
   "source": [
    "for i in range(0,10):\n",
    "    for j in range(0,y):\n",
    "        pixel_range =   {'x': [j,j], 'y': [i+k,i+k]}\n",
    "        gaussdisk, gausslead, gaussfollow = getcomps(j, i, pixel_range = pixel_range)\n",
    "        cube_copy[:,i+k,j] = gaussdisk\n",
    "        cube_lead[:,i+k,j] = gausslead\n",
    "        cube_follow[:,i+k,j] = gaussfollow\n",
    "        \n",
    "k = k+i+1\n"
   ]
  },
  {
   "cell_type": "code",
   "execution_count": 53,
   "id": "7d19c4b6-b8c7-4535-be90-e51d41cd8914",
   "metadata": {
    "jupyter": {
     "source_hidden": true
    },
    "tags": []
   },
   "outputs": [],
   "source": [
    "for i in range(0,10):\n",
    "    for j in range(0,y):\n",
    "        pixel_range =   {'x': [j,j], 'y': [i+k,i+k]}\n",
    "        gaussdisk, gausslead, gaussfollow = getcomps(j, i, pixel_range = pixel_range)\n",
    "        cube_copy[:,i+k,j] = gaussdisk\n",
    "        cube_lead[:,i+k,j] = gausslead\n",
    "        cube_follow[:,i+k,j] = gaussfollow\n",
    "        \n",
    "k = k+i+1"
   ]
  },
  {
   "cell_type": "code",
   "execution_count": 54,
   "id": "3a9d31be-c84c-4b72-8636-7d5e006b522d",
   "metadata": {
    "jupyter": {
     "source_hidden": true
    },
    "tags": []
   },
   "outputs": [],
   "source": [
    "for i in range(0,10):\n",
    "    for j in range(0,y):\n",
    "        pixel_range =   {'x': [j,j], 'y': [i+k,i+k]}\n",
    "        gaussdisk, gausslead, gaussfollow = getcomps(j, i, pixel_range = pixel_range)\n",
    "        cube_copy[:,i+k,j] = gaussdisk\n",
    "        cube_lead[:,i+k,j] = gausslead\n",
    "        cube_follow[:,i+k,j] = gaussfollow\n",
    "        \n",
    "k = k+i+1"
   ]
  },
  {
   "cell_type": "code",
   "execution_count": 55,
   "id": "da0c8bcb-2ef3-429c-b28b-cb1021ad2f72",
   "metadata": {
    "jupyter": {
     "source_hidden": true
    },
    "tags": []
   },
   "outputs": [],
   "source": [
    "for i in range(0,10):\n",
    "    for j in range(0,y):\n",
    "        pixel_range =   {'x': [j,j], 'y': [i+k,i+k]}\n",
    "        gaussdisk, gausslead, gaussfollow = getcomps(j, i, pixel_range = pixel_range)\n",
    "        cube_copy[:,i+k,j] = gaussdisk\n",
    "        cube_lead[:,i+k,j] = gausslead\n",
    "        cube_follow[:,i+k,j] = gaussfollow\n",
    "        \n",
    "k = k+i+1"
   ]
  },
  {
   "cell_type": "code",
   "execution_count": 56,
   "id": "96c934f6-6be7-41a5-a810-9806a27059c1",
   "metadata": {
    "jupyter": {
     "source_hidden": true
    },
    "tags": []
   },
   "outputs": [],
   "source": [
    "for i in range(0,10):\n",
    "    for j in range(0,y):\n",
    "        pixel_range =   {'x': [j,j], 'y': [i+k,i+k]}\n",
    "        gaussdisk, gausslead, gaussfollow = getcomps(j, i, pixel_range = pixel_range)\n",
    "        cube_copy[:,i+k,j] = gaussdisk\n",
    "        cube_lead[:,i+k,j] = gausslead\n",
    "        cube_follow[:,i+k,j] = gaussfollow\n",
    "        \n",
    "        \n",
    "k = k+i+1"
   ]
  },
  {
   "cell_type": "code",
   "execution_count": 57,
   "id": "85672392-4852-47b5-abb9-3ac8f5f6464e",
   "metadata": {
    "jupyter": {
     "source_hidden": true
    },
    "tags": []
   },
   "outputs": [],
   "source": [
    "for i in range(0,10):\n",
    "    for j in range(0,y):\n",
    "        pixel_range =   {'x': [j,j], 'y': [i+k,i+k]}\n",
    "        gaussdisk, gausslead, gaussfollow = getcomps(j, i, pixel_range = pixel_range)\n",
    "        cube_copy[:,i+k,j] = gaussdisk\n",
    "        cube_lead[:,i+k,j] = gausslead\n",
    "        cube_follow[:,i+k,j] = gaussfollow\n",
    "        \n",
    "k = k+i+1"
   ]
  },
  {
   "cell_type": "code",
   "execution_count": 9,
   "id": "45c2b6da-b47c-4834-8ae1-befdd76af446",
   "metadata": {
    "tags": []
   },
   "outputs": [],
   "source": [
    "cube_copy = np.zeros_like(cube_image)\n",
    "cube_lead = np.zeros_like(cube_image)\n",
    "cube_follow = np.zeros_like(cube_image)\n",
    "cube_anom = np.zeros_like(cube_image)\n",
    "anom_mom0 = np.zeros_like(cube_mom0)\n",
    "#v1 = 7990.332\n",
    "v1 = 7971.2240\n",
    "#v2 = 7807.118 \n",
    "v2 = 7798.4267\n",
    "#v3 = 7816.632\n",
    "v3 = 7835.2931\n",
    "\n",
    "s = len(cube_copy[:,0,0])\n",
    "x = len(cube_copy[0,:,0])\n",
    "y = len(cube_copy[0,0,:])\n",
    "k = 0\n",
    "\n",
    "for i in range(0,x):\n",
    "    for j in range(0,y):\n",
    "        \n",
    "        pixel_range =   {'x': [j,j], 'y': [i,i]}\n",
    "        gaussdisk, gausslead, gaussfollow, gaussanom,anommom = getcomps(j, i, S2_image, \n",
    "                                                                        S2_cube, cube_mom0, \n",
    "                                                                        v2, pixel_range = pixel_range)\n",
    "        cube_copy[:,i,j] = gaussdisk\n",
    "        cube_lead[:,i,j] = gausslead\n",
    "        cube_follow[:,i,j] = gaussfollow\n",
    "        cube_anom[:,i,j] = gaussanom\n",
    "        anom_mom0[i,j] = anommom"
   ]
  },
  {
   "cell_type": "code",
   "execution_count": 4,
   "id": "32dd549d-c237-4416-ab5d-8aadda0da2bb",
   "metadata": {
    "tags": []
   },
   "outputs": [],
   "source": [
    "#v1 = 7990.332\n",
    "v1 = 7971.2240\n",
    "#v2 = 7807.118 \n",
    "v2 = 7798.4267\n",
    "#v3 = 7816.632\n",
    "v3 = 7835.2931\n",
    "cube_copy, cube_lead, cube_follow, cube_anom, anom_mom0 = mf.make_images(data,decomp,cube_image,cube_mom0,v2,S2_cube,S2_image)"
   ]
  },
  {
   "cell_type": "code",
   "execution_count": 5,
   "id": "748876cc-9090-40d1-86cb-206e5c1a8773",
   "metadata": {
    "tags": []
   },
   "outputs": [],
   "source": [
    "anom_mom0_copy = np.copy(anom_mom0)\n",
    "m = 250\n",
    "l = 200\n",
    "\n",
    "for i in range(0,m):\n",
    "    for j in range(0,l):\n",
    "        if anom_mom0[i,j] == 0:\n",
    "            anom_mom0_copy[i,j] = math.nan"
   ]
  },
  {
   "cell_type": "code",
   "execution_count": 7,
   "id": "29edcf39-fff1-4b3b-984c-1ffb513c2b7e",
   "metadata": {
    "tags": []
   },
   "outputs": [
    {
     "name": "stderr",
     "output_type": "stream",
     "text": [
      "\n",
      "\u001b[93mWARNING:\u001b[0m FITSFixedWarning: SPECSYS3= 'BARYCENT' \n",
      "invalid alternate code, keyword resembles SPECSYSa but isn't.\n",
      "\n",
      "\u001b[93mWARNING:\u001b[0m FITSFixedWarning: 'datfix' made the change 'Set MJD-OBS to 59962.894199 from DATE-OBS'.\n"
     ]
    },
    {
     "data": {
      "image/png": "[encoded data removed]",
      "text/plain": [
       "<Figure size 2000x2000 with 2 Axes>"
      ]
     },
     "metadata": {},
     "output_type": "display_data"
    }
   ],
   "source": [
    "fig = plt.figure(figsize = (20,20))\n",
    "ax = fig.add_subplot(projection= WCS(header_mom0))\n",
    "im = ax.imshow(anom_mom0_copy, cmap = 'inferno')\n",
    "#ax.contour(S1237_copy, levels=[1.01e-2, 4.74e-2, 8.48e-2, 0.12, 0.16], colors = 'grey')\n",
    "\n",
    "\n",
    "cbar = plt.colorbar(im)\n",
    "cbar.set_label(r\"Specific Intensity [Jy/beam$\\cdot$km/s]\", size=24)\n",
    "#cbar.ax.set_yticklabels(['0.0','', '0.1','', '0.2','', '0.3','', '0.4'])\n",
    "cbar.ax.tick_params(labelsize=18)\n",
    "#plt.savefig('mom0_anom.pdf', bbox_inches='tight')"
   ]
  },
  {
   "cell_type": "code",
   "execution_count": 141,
   "id": "8ff1f619-6945-4b26-99a7-658ddb1ae0a2",
   "metadata": {},
   "outputs": [],
   "source": [
    "#hdu = fits.PrimaryHDU(cube_copy, header=header_cube)\n",
    "#hdu.writeto('data/pbcorr_J1059_09_HI.image_S1.gauss_model_disk.fits', overwrite=True)\n",
    "#hdu = fits.PrimaryHDU(cube_lead, header=header_cube)\n",
    "#hdu.writeto('data/pbcorr_J1059_09_HI.image_S1.gauss_model_lead2.fits', overwrite=True)\n",
    "#hdu = fits.PrimaryHDU(cube_follow, header=header_cube)\n",
    "#hdu.writeto('data/pbcorr_J1059_09_HI.image_S1.gauss_model_follow2.fits', overwrite=True)\n",
    "#hdu = fits.PrimaryHDU(cube_anom, header=header_cube)\n",
    "#hdu.writeto('data/pbcorr_J1059_09_HI.image_S1.gauss_model_anom.fits', overwrite=True)\n",
    "hdu = fits.PrimaryHDU(anom_mom0, header=header_mom0)\n",
    "hdu.writeto('data/pbcorr_J1059_09_HI.image_mom0_S1237.gauss_model_anom.fits', overwrite=True)"
   ]
  }
 ],
 "metadata": {
  "kernelspec": {
   "display_name": "Python 3 (ipykernel)",
   "language": "python",
   "name": "python3"
  },
  "language_info": {
   "codemirror_mode": {
    "name": "ipython",
    "version": 3
   },
   "file_extension": ".py",
   "mimetype": "text/x-python",
   "name": "python",
   "nbconvert_exporter": "python",
   "pygments_lexer": "ipython3",
   "version": "3.7.12"
  }
 },
 "nbformat": 4,
 "nbformat_minor": 5
}
