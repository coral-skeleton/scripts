{
 "cells": [
  {
   "cell_type": "code",
   "execution_count": 1,
   "id": "e8846b7f-4aef-4e5b-99c2-1c96ef888cee",
   "metadata": {},
   "outputs": [],
   "source": [
    "import numpy as np\n",
    "import matplotlib.pyplot as plt\n",
    "from matplotlib.colors import LogNorm\n",
    "import math\n",
    "\n",
    "import astropy.units as u\n",
    "from astropy.utils.data import download_file\n",
    "from astropy.io import fits  # We use fits to open the actual data file\n",
    "\n",
    "from astropy.utils import data\n",
    "data.conf.remote_timeout = 60\n",
    "\n",
    "from spectral_cube import SpectralCube\n",
    "\n",
    "#from astroquery.esasky import ESASky\n",
    "#from astroquery.utils import TableList\n",
    "from astropy.wcs import WCS\n",
    "#from reproject import reproject_interp"
   ]
  },
  {
   "cell_type": "code",
   "execution_count": 3,
   "id": "852cb388-2805-4c23-982e-634fc3ef2b54",
   "metadata": {},
   "outputs": [],
   "source": [
    "loc = '/scratch3/projects/meerchoirs/jcviljoen/output_'\n",
    "vers = 'pbcorr' \n",
    "loc2 = '/cubes/cube_1/'\n",
    "name= '_J1059_09_HI_1.image'\n",
    "fullname = loc+vers+loc2+vers+name\n",
    "ext = '.fits'\n",
    "image = ''\n",
    "mask = '_mask'\n",
    "outloc = loc+vers+loc2 + 'cleaned/' +vers+name"
   ]
  },
  {
   "cell_type": "code",
   "execution_count": 4,
   "id": "1a08d3e8-069d-43a9-b82f-aaa6ff13fd02",
   "metadata": {},
   "outputs": [
    {
     "name": "stdout",
     "output_type": "stream",
     "text": [
      "Filename: /scratch3/projects/meerchoirs/jcviljoen/output_pbcorr/cubes/cube_1/pbcorr_J1059_09_HI_1.image.fits\n",
      "No.    Name      Ver    Type      Cards   Dimensions   Format\n",
      "  0  PRIMARY       1 PrimaryHDU     632   (2048, 2048, 189)   float32   \n",
      "Filename: /scratch3/projects/meerchoirs/jcviljoen/output_pbcorr/cubes/cube_1/pbcorr_J1059_09_HI_1.image_mask.fits\n",
      "No.    Name      Ver    Type      Cards   Dimensions   Format\n",
      "  0  PRIMARY       1 PrimaryHDU     779   (2048, 2048, 189)   int16   \n",
      "<class 'numpy.ndarray'>\n",
      "(189, 2048, 2048)\n",
      "<class 'numpy.ndarray'>\n",
      "(189, 2048, 2048)\n"
     ]
    }
   ],
   "source": [
    "hdu_list = fits.open(fullname+image+ext)\n",
    "hdu_list.info()\n",
    "hdu1_list = fits.open(fullname+mask+ext)\n",
    "hdu1_list.info()\n",
    "data_image = fits.getdata(loc+vers+'/cubes/cube_2/moms/'+vers+'_J1059_09_HI.image'+ext)\n",
    "header_image = fits.getheader(loc+vers+'/cubes/cube_2/moms/'+vers+'_J1059_09_HI.image'+ext)\n",
    "data_mask = fits.getdata(fullname+mask+ext)\n",
    "header_mask = fits.getheader(fullname+mask+ext)\n",
    "print(type(data_image))\n",
    "print(data_image.shape)\n",
    "print(type(data_mask))\n",
    "print(data_mask.shape)"
   ]
  },
  {
   "cell_type": "code",
   "execution_count": 1,
   "id": "c29af017-9dfd-4b2b-82df-2d829fcca69e",
   "metadata": {},
   "outputs": [
    {
     "ename": "NameError",
     "evalue": "name 'data_image' is not defined",
     "output_type": "error",
     "traceback": [
      "\u001b[0;31m---------------------------------------------------------------------------\u001b[0m",
      "\u001b[0;31mNameError\u001b[0m                                 Traceback (most recent call last)",
      "Cell \u001b[0;32mIn[1], line 1\u001b[0m\n\u001b[0;32m----> 1\u001b[0m masked1 \u001b[38;5;241m=\u001b[39m \u001b[43mdata_image\u001b[49m\u001b[38;5;241m*\u001b[39m\u001b[38;5;241m~\u001b[39mdata_mask\n",
      "\u001b[0;31mNameError\u001b[0m: name 'data_image' is not defined"
     ]
    }
   ],
   "source": [
    "masked1 = data_image*~data_mask"
   ]
  },
  {
   "cell_type": "code",
   "execution_count": null,
   "id": "3de3e3f3-4870-42b2-89a9-3bf90873a46b",
   "metadata": {},
   "outputs": [],
   "source": [
    "hdu = fits.PrimaryHDU(masked1, header=header_image)\n",
    "hdu.writeto(outloc+'_masked_inverse'+ext, overwrite=True)"
   ]
  },
  {
   "cell_type": "code",
   "execution_count": null,
   "id": "a7696501-e689-463c-9765-392e72dc592e",
   "metadata": {},
   "outputs": [],
   "source": [
    "masked2 = data_image*data_mask"
   ]
  },
  {
   "cell_type": "code",
   "execution_count": null,
   "id": "2246198d-a1b0-4537-b36c-a25850a2dc8a",
   "metadata": {},
   "outputs": [],
   "source": [
    "hdu = fits.PrimaryHDU(masked2, header=header_image)\n",
    "hdu.writeto(outloc+'_masked'+ext, overwrite=True)"
   ]
  }
 ],
 "metadata": {
  "kernelspec": {
   "display_name": "ASTRO-PY3 (Python 3.8)",
   "language": "python",
   "name": "astro-py3.8"
  },
  "language_info": {
   "codemirror_mode": {
    "name": "ipython",
    "version": 3
   },
   "file_extension": ".py",
   "mimetype": "text/x-python",
   "name": "python",
   "nbconvert_exporter": "python",
   "pygments_lexer": "ipython3",
   "version": "3.8.2"
  }
 },
 "nbformat": 4,
 "nbformat_minor": 5
}
